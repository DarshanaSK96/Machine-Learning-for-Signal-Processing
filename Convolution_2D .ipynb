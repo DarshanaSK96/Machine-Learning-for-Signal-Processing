{
  "nbformat": 4,
  "nbformat_minor": 0,
  "metadata": {
    "kernelspec": {
      "display_name": "Python 3",
      "language": "python",
      "name": "python3"
    },
    "language_info": {
      "codemirror_mode": {
        "name": "ipython",
        "version": 3
      },
      "file_extension": ".py",
      "mimetype": "text/x-python",
      "name": "python",
      "nbconvert_exporter": "python",
      "pygments_lexer": "ipython3",
      "version": "3.8.3"
    },
    "colab": {
      "name": "Convolution_2D.ipynb",
      "provenance": [],
      "collapsed_sections": []
    },
    "accelerator": "GPU"
  },
  "cells": [
    {
      "cell_type": "markdown",
      "metadata": {
        "id": "PIDtP_xYUJbf"
      },
      "source": [
        "# **2D Convolution**\n",
        "*presented by Darshana Subhash*"
      ]
    },
    {
      "cell_type": "markdown",
      "metadata": {
        "id": "0xEObDBTUoE_"
      },
      "source": [
        "**Kernel slides along 2 dimensions that is: along the width from left to right and along the height from top to bottom.Hence the term 2D Convolution**."
      ]
    },
    {
      "cell_type": "code",
      "metadata": {
        "colab": {
          "base_uri": "https://localhost:8080/",
          "height": 405
        },
        "id": "HJ44FYAqW4Xu",
        "outputId": "9b6845ed-040e-4981-d984-e0ecdec322f3"
      },
      "source": [
        "from IPython.display import Image\n",
        "Image(url='https://i.stack.imgur.com/SFST9.gif')"
      ],
      "execution_count": 37,
      "outputs": [
        {
          "output_type": "execute_result",
          "data": {
            "text/html": [
              "<img src=\"https://i.stack.imgur.com/SFST9.gif\"/>"
            ],
            "text/plain": [
              "<IPython.core.display.Image object>"
            ]
          },
          "metadata": {
            "tags": []
          },
          "execution_count": 37
        }
      ]
    },
    {
      "cell_type": "code",
      "metadata": {
        "id": "gOzJ7B6Ph7AV"
      },
      "source": [
        "import numpy as np\n",
        "import tensorflow as tf\n",
        "from tensorflow.keras.layers import Conv2D\n",
        "import pandas as pd \n",
        "import math"
      ],
      "execution_count": 9,
      "outputs": []
    },
    {
      "cell_type": "code",
      "metadata": {
        "id": "ytXbL2LHh7Af"
      },
      "source": [
        "def convolution_2D(input, filter, bias, stride, padding):\n",
        "    \n",
        "    if len(filter.shape)==3:#Condition  for Single Input-sequence with fiter(s)\n",
        "        if not len(filter.shape) == 3:\n",
        "            raise ValueError(\"The size of the filter should be (filter_height, filter_width, filter_depth)\")\n",
        "        \n",
        "        if not len(input.shape) == 3:\n",
        "            raise ValueError(\"The size of the input should be (input_height, input_width, input_depth)\")\n",
        "       \n",
        "        input_height, input_width = input.shape[1], input.shape[2]      # input height and input width\n",
        "        kernel_height, kernel_width = filter.shape[1], filter.shape[2]  # filter height and filter width\n",
        "        output_depth=filter.shape[0]\n",
        "    \n",
        "        if padding == 'VALID':\n",
        "            output_height = int(math.ceil(float(input_height - kernel_height + 1) / float(stride[0])))\n",
        "            output_width = int(math.ceil(float(input_width - kernel_width + 1) / float(stride[1])))\n",
        "        \n",
        "            output_featuremap = np.zeros((output_depth,output_height, output_width)) \n",
        "            for filter_num in range(filter.shape[0]):\n",
        "                print(\"Filter\",filter_num+1)\n",
        "                print(filter[filter_num,:,:])\n",
        "                for x in range(output_width):  # Loop over every cell of the output\n",
        "                    for y in range(output_height):\n",
        "                        \n",
        "                # element-wise multiplication of the filter and the image\n",
        "                        output_featuremap[filter_num,y,x]=(filter[filter_num,:,:] * input[:,y * stride[0]:y * stride[0] + kernel_height,\n",
        "                                x * stride[1]:x * stride[1] + kernel_width]).sum() + bias\n",
        "                        \n",
        "                \n",
        "        \n",
        "        if padding == 'SAME':\n",
        "            output_height = int(math.ceil(float(input_height) / float(stride[0])))\n",
        "            output_width = int(math.ceil(float(input_width) / float(stride[1])))\n",
        "        \n",
        "        \n",
        "            if input_height % stride[0] == 0:\n",
        "                pad_height = max((kernel_height - stride[0]), 0)\n",
        "            else:\n",
        "                pad_height = max(kernel_height - (input_height % stride[0]), 0)\n",
        "            if input_width % stride[1] == 0:\n",
        "                pad_width = max((kernel_width - stride[1]), 0)\n",
        "            else:\n",
        "                pad_width = max(kernel_width - (input_width % stride[1]), 0)\n",
        "            \n",
        "            pad_top = pad_height // 2 \n",
        "            pad_bottom = pad_height - pad_top \n",
        "            pad_left = pad_width // 2           \n",
        "            pad_right = pad_width - pad_left    \n",
        "        \n",
        "            output_featuremap = np.zeros((output_depth,output_height,output_width))  # convolution output\n",
        "        # Input with zero padding\n",
        "            input_padded = np.zeros((input.shape[0],input.shape[1] + pad_height, input.shape[2] + pad_width))\n",
        "            input_padded[:,pad_top:-pad_bottom, pad_left:-pad_right] = input\n",
        "            print(\"Input after padding\\n\",input_padded)\n",
        "            for filter_num in range(filter.shape[0]):\n",
        "                print(\"Filter\",filter_num+1)\n",
        "                print(filter[filter_num,:,:])\n",
        "                for x in range(output_width):  \n",
        "                    for y in range(output_height):\n",
        "                        \n",
        "                # Convolution result using element-wise multiplication of the filter and input\n",
        "                        output_featuremap[filter_num,y, x] = (filter[filter_num,:,:] * input_padded[:,y * stride[0]:y * stride[0] + kernel_height,\n",
        "                                x * stride[1]:x * stride[1] + kernel_width]).sum() + bias\n",
        "        \n",
        "    elif len(filter.shape)==4:     \n",
        "            #Condition for  One or more Input, multiple filter with depth/layers/channels(depends on Input sequence)\n",
        "        if not len(filter.shape) == 4:\n",
        "            raise ValueError(\"The size of filter should be (filter_height, filter_width, filter_depth, number_of_filters)\")\n",
        "        \n",
        "        if not len(input.shape) == 3:\n",
        "            raise ValueError(\"The size of the input should be (input_height, input_width, input_depth)\")\n",
        "        \n",
        "\n",
        "        \n",
        "        input_height,input_width = input.shape[1], input.shape[2] # input height and input width\n",
        "        kernel_height,kernel_width = filter.shape[2], filter.shape[3]  # filter height and filter width\n",
        "        output_depth = filter.shape[0] \n",
        "    \n",
        "        if padding == 'VALID':\n",
        "            output_height = int(math.ceil(float(input_height - kernel_height + 1) / float(stride[0])))\n",
        "            output_width = int(math.ceil(float(input_width - kernel_width + 1) / float(stride[1])))\n",
        "        \n",
        "            output_featuremap = np.zeros((output_depth, output_height, output_width))  \n",
        "            for filter_num in range(filter.shape[0]):#Loop over filters\n",
        "                print(\"Filter\",filter_num+1)\n",
        "                for ch in range(filter.shape[1]):# Loop over every channel of the filter\n",
        "                    print(\"Layer\"+str(ch+1)+\"\\nFilter is:\"+str(filter[filter_num,ch,:,:]))\n",
        "                    for x in range(output_width):  \n",
        "                        for y in range(output_height):\n",
        "                            \n",
        "                       # Convolution result using element-wise multiplication of the filter and input\n",
        "                            conv_map = (filter[filter_num,ch, :,:]*input[:,y * stride[0]:y * stride[0] + kernel_height,x * stride[1]:x * stride[1] + kernel_width]).sum()\n",
        "                            output_featuremap[filter_num,y,x]=np.add(output_featuremap[filter_num,y,x],conv_map)\n",
        "    \n",
        "\n",
        "        if padding == 'SAME':\n",
        "            output_height = int(math.ceil(float(input_height) / float(stride[0])))\n",
        "            output_width = int(math.ceil(float(input_width) / float(stride[1])))\n",
        "        \n",
        "        \n",
        "            if input_height % stride[0] == 0:\n",
        "                pad_height = max((kernel_height - stride[0]), 0)\n",
        "            else:\n",
        "                pad_height = max(kernel_height - (input_height % stride[0]), 0)\n",
        "            if input_width % stride[1] == 0:\n",
        "                pad_width = max((kernel_width - stride[1]), 0)\n",
        "            else:\n",
        "                pad_width = max(kernel_width - (input_width % stride[1]), 0)\n",
        "            \n",
        "            pad_top = pad_height // 2\n",
        "            pad_bottom = pad_height - pad_top \n",
        "            pad_left = pad_width // 2             \n",
        "            pad_right = pad_width - pad_left     \n",
        "        \n",
        "            output_featuremap = np.zeros((output_depth,output_height, output_width))\n",
        "            # Input with zero padding \n",
        "            input_padded = np.zeros((input.shape[0],input.shape[1] + pad_height, input.shape[2] + pad_width))\n",
        "            input_padded[:,pad_top:-pad_bottom, pad_left:-pad_right] = input\n",
        "            print(\"Input after padding\\n\",input_padded)\n",
        "            for filter_num in range(filter.shape[0]):#loop over filters\n",
        "                print(\"Filter\",filter_num+1)\n",
        "                for ch in range(filter.shape[1]):# Loop over every channel of the filter\n",
        "                    print(\"Layer\"+str(ch+1)+\"\\nFilter is:\"+str(filter[filter_num,ch,:,:]))\n",
        "                    for x in range(output_width):  \n",
        "                        for y in range(output_height):\n",
        "                            \n",
        "                    # element-wise multiplication of the input and filter\n",
        "                            conv_map= (filter[filter_num,ch,:,:] * input_padded[:,y * stride[0]:y * stride[0] + kernel_height, x * stride[1]:x * stride[1] + kernel_width]).sum()\n",
        "                            output_featuremap[filter_num,y,x]=np.add(output_featuremap[filter_num,y,x],conv_map)\n",
        "                            \n",
        "                   \n",
        "                \n",
        "    return output_featuremap\n"
      ],
      "execution_count": 27,
      "outputs": []
    },
    {
      "cell_type": "markdown",
      "metadata": {
        "id": "bMfpOOB0nS1e"
      },
      "source": [
        "<B>1. Build your own “2-D Convolution” function file to perform the convolution operation, given the input matrix of size m x m and one filter of size f x f, such that the ouput convolution length is given by m-f+1.   "
      ]
    },
    {
      "cell_type": "markdown",
      "metadata": {
        "id": "X2DeFkHkp9iF"
      },
      "source": [
        "![image.png](data:image/png;base64,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)"
      ]
    },
    {
      "cell_type": "code",
      "metadata": {
        "id": "c7Z6xrKvh7Ai",
        "colab": {
          "base_uri": "https://localhost:8080/"
        },
        "outputId": "2254b42d-1a00-46d7-d282-cb5134ce83b0"
      },
      "source": [
        "np.random.seed(1)\n",
        "\n",
        "print(\"Test1:For hardcoded Input and fiter values with default padding(VALID)\\n\")\n",
        "input=np.array([[3,0,1,2,7,4],[1,5,8,9,3,1],[2,7,2,5,1,3],[0,1,3,1,7,8],[4,2,1,6,2,8],[2,4,5,2,3,9]])\n",
        "print(\"Input:\"+str(input)+\"\\n\"+\"Input Shape:\"+str(input.shape))\n",
        "input=input.reshape((1,input.shape[0],input.shape[1]))\n",
        "\n",
        "kernel=np.array([[1,0,-1], [1,0,-1], [1,0,-1]])\n",
        "kernel=kernel.reshape((1,kernel.shape[0],kernel.shape[1]))\n",
        "Feature_Map=convolution_2D(input,kernel,0,(1,1),'VALID')\n",
        "print(\"Output Feature Map is:\",str(Feature_Map)+\"\\n\"+\"Output shape:\"+str(Feature_Map.shape))\n",
        "\n",
        "\n",
        "print(\"\\nTest2:For random Input and fiter values\\n\")\n",
        "input=np.random.randint(5, size=(1,4,4))\n",
        "print(\"Input:\"+str(input)+\"\\n\")\n",
        "\n",
        "kernel = np.random.randint(5,size=(1,3,3))\n",
        "print(\"Kernel:\",kernel)\n",
        "\n",
        "Feature_Map=convolution_2D(input,kernel,0,(1,1),'VALID')\n",
        "\n",
        "print(\"Output Feature Map is:\\n\",str(Feature_Map)+\"\\n\"+\"Output shape:\"+str(Feature_Map.shape))\n",
        "print(\"Input Shape:\"+str(input.shape))"
      ],
      "execution_count": 28,
      "outputs": [
        {
          "output_type": "stream",
          "text": [
            "Test1:For hardcoded Input and fiter values with default padding(VALID)\n",
            "\n",
            "Input:[[3 0 1 2 7 4]\n",
            " [1 5 8 9 3 1]\n",
            " [2 7 2 5 1 3]\n",
            " [0 1 3 1 7 8]\n",
            " [4 2 1 6 2 8]\n",
            " [2 4 5 2 3 9]]\n",
            "Input Shape:(6, 6)\n",
            "Filter 1\n",
            "[[ 1  0 -1]\n",
            " [ 1  0 -1]\n",
            " [ 1  0 -1]]\n",
            "Output Feature Map is: [[[ -5.  -4.   0.   8.]\n",
            "  [-10.  -2.   2.   3.]\n",
            "  [  0.  -2.  -4.  -7.]\n",
            "  [ -3.  -2.  -3. -16.]]]\n",
            "Output shape:(1, 4, 4)\n",
            "\n",
            "Test2:For random Input and fiter values\n",
            "\n",
            "Input:[[[3 4 0 1]\n",
            "  [3 0 0 1]\n",
            "  [4 4 1 2]\n",
            "  [4 2 4 3]]]\n",
            "\n",
            "Kernel: [[[4 2 4]\n",
            "  [2 4 1]\n",
            "  [1 0 1]]]\n",
            "Filter 1\n",
            "[[4 2 4]\n",
            " [2 4 1]\n",
            " [1 0 1]]\n",
            "Output Feature Map is:\n",
            " [[[31. 27.]\n",
            "  [45. 23.]]]\n",
            "Output shape:(1, 2, 2)\n",
            "Input Shape:(1, 4, 4)\n"
          ],
          "name": "stdout"
        }
      ]
    },
    {
      "cell_type": "markdown",
      "metadata": {
        "id": "LeD1uPshtaJR"
      },
      "source": [
        "<B>2. Build your own “2-D Convolution” function file to perform the convolution operation  given the input matrix of size m x m and one filter of size f x f,, such that the ouput convolution length is same as that of the length of the input sequence.    "
      ]
    },
    {
      "cell_type": "code",
      "metadata": {
        "id": "jFC6X6Qfvntw",
        "colab": {
          "base_uri": "https://localhost:8080/"
        },
        "outputId": "325754d3-20e0-466b-d0ac-34d6f3721dd5"
      },
      "source": [
        "np.random.seed(1)\n",
        "\n",
        "print(\"Test1:For hardcoded Input and fiter values with zero padding(SAME)\\n\")\n",
        "input=np.array([[3,0,1,2,7,4],[1,5,8,9,3,1],[2,7,2,5,1,3],[0,1,3,1,7,8],[4,2,1,6,2,8],[2,4,5,2,3,9]])\n",
        "print(\"Input:\"+str(input)+\"\\n\"+\"Input Shape:\"+str(input.shape))\n",
        "input=input.reshape((1,input.shape[0],input.shape[1]))\n",
        "\n",
        "kernel=np.array([[1,0,-1], [1,0,-1], [1,0,-1]])\n",
        "kernel=kernel.reshape((1,kernel.shape[0],kernel.shape[1]))\n",
        "Feature_Map=convolution_2D(input,kernel,0,(1,1),'SAME')\n",
        "print(\"Output Feature Map is:\",str(Feature_Map)+\"\\n\"+\"Output shape:\"+str(Feature_Map.shape))\n",
        "\n",
        "\n",
        "print(\"\\nTest2:For random Input and fiter values\\n\")\n",
        "input=np.random.randint(5, size=(1,4,4))\n",
        "print(\"Input:\"+str(input)+\"\\n\")\n",
        "\n",
        "kernel = np.random.randint(5,size=(1,3,3))\n",
        "print(\"Kernel:\",kernel)\n",
        "\n",
        "Feature_Map=convolution_2D(input,kernel,0,(1,1),'SAME')\n",
        "\n",
        "print(\"Output Feature Map is:\\n\",str(Feature_Map)+\"\\n\"+\"Output shape:\"+str(Feature_Map.shape))\n",
        "print(\"Input Shape:\"+str(input.shape))"
      ],
      "execution_count": 30,
      "outputs": [
        {
          "output_type": "stream",
          "text": [
            "Test1:For hardcoded Input and fiter values with zero padding(SAME)\n",
            "\n",
            "Input:[[3 0 1 2 7 4]\n",
            " [1 5 8 9 3 1]\n",
            " [2 7 2 5 1 3]\n",
            " [0 1 3 1 7 8]\n",
            " [4 2 1 6 2 8]\n",
            " [2 4 5 2 3 9]]\n",
            "Input Shape:(6, 6)\n",
            "Input after padding\n",
            " [[[0. 0. 0. 0. 0. 0. 0. 0.]\n",
            "  [0. 3. 0. 1. 2. 7. 4. 0.]\n",
            "  [0. 1. 5. 8. 9. 3. 1. 0.]\n",
            "  [0. 2. 7. 2. 5. 1. 3. 0.]\n",
            "  [0. 0. 1. 3. 1. 7. 8. 0.]\n",
            "  [0. 4. 2. 1. 6. 2. 8. 0.]\n",
            "  [0. 2. 4. 5. 2. 3. 9. 0.]\n",
            "  [0. 0. 0. 0. 0. 0. 0. 0.]]]\n",
            "Filter 1\n",
            "[[ 1  0 -1]\n",
            " [ 1  0 -1]\n",
            " [ 1  0 -1]]\n",
            "Output Feature Map is: [[[ -5.  -5.  -6.  -1.   6.  10.]\n",
            "  [-12.  -5.  -4.   0.   8.  11.]\n",
            "  [-13. -10.  -2.   2.   3.  11.]\n",
            "  [-10.   0.  -2.  -4.  -7.  10.]\n",
            "  [ -7.  -3.  -2.  -3. -16.  12.]\n",
            "  [ -6.   0.  -2.   1.  -9.   5.]]]\n",
            "Output shape:(1, 6, 6)\n",
            "\n",
            "Test2:For random Input and fiter values\n",
            "\n",
            "Input:[[[3 4 0 1]\n",
            "  [3 0 0 1]\n",
            "  [4 4 1 2]\n",
            "  [4 2 4 3]]]\n",
            "\n",
            "Kernel: [[[4 2 4]\n",
            "  [2 4 1]\n",
            "  [1 0 1]]]\n",
            "Input after padding\n",
            " [[[0. 0. 0. 0. 0. 0.]\n",
            "  [0. 3. 4. 0. 1. 0.]\n",
            "  [0. 3. 0. 0. 1. 0.]\n",
            "  [0. 4. 4. 1. 2. 0.]\n",
            "  [0. 4. 2. 4. 3. 0.]\n",
            "  [0. 0. 0. 0. 0. 0.]]]\n",
            "Filter 1\n",
            "[[4 2 4]\n",
            " [2 4 1]\n",
            " [1 0 1]]\n",
            "Output Feature Map is:\n",
            " [[[16. 25. 10.  4.]\n",
            "  [38. 31. 27.  7.]\n",
            "  [28. 45. 23. 16.]\n",
            "  [42. 48. 49. 28.]]]\n",
            "Output shape:(1, 4, 4)\n",
            "Input Shape:(1, 4, 4)\n"
          ],
          "name": "stdout"
        }
      ]
    },
    {
      "cell_type": "markdown",
      "metadata": {
        "id": "IeCg-xdcv90f"
      },
      "source": [
        "<B>3.Use any one of your built “Conv2” function file to  perform the convolution operation given the input matrix and ‘N1’ number of filters.        </B>\n",
        "\n",
        "Let N1=2 filters"
      ]
    },
    {
      "cell_type": "code",
      "metadata": {
        "id": "f8WXooIXwoaO",
        "colab": {
          "base_uri": "https://localhost:8080/"
        },
        "outputId": "3dff3787-4878-4011-f035-2060aef336de"
      },
      "source": [
        "input=np.random.randint(5, size=(1,4,4))\n",
        "print(\"Input:\"+str(input)+\"\\n\")\n",
        "\n",
        "kernel = np.random.randint(5,size=(2,3,3))\n",
        "print(\"Kernel:\",kernel)\n",
        "\n",
        "Feature_Map=convolution_2D(input,kernel,0,(1,1),'VALID')\n",
        "\n",
        "print(\"Output Feature Map is:\\n\",str(Feature_Map)+\"\\n\"+\"Output shape:\"+str(Feature_Map.shape))\n",
        "print(\"Input Shape:\"+str(input.shape))"
      ],
      "execution_count": 32,
      "outputs": [
        {
          "output_type": "stream",
          "text": [
            "Input:[[[1 3 4 3]\n",
            "  [1 3 0 0]\n",
            "  [2 2 1 3]\n",
            "  [4 2 0 0]]]\n",
            "\n",
            "Kernel: [[[1 1 3]\n",
            "  [0 0 4]\n",
            "  [2 4 3]]\n",
            "\n",
            " [[3 0 3]\n",
            "  [4 3 4]\n",
            "  [4 4 1]]]\n",
            "Filter 1\n",
            "[[1 1 3]\n",
            " [0 0 4]\n",
            " [2 4 3]]\n",
            "Filter 2\n",
            "[[3 0 3]\n",
            " [4 3 4]\n",
            " [4 4 1]]\n",
            "Output Feature Map is:\n",
            " [[[31. 33.]\n",
            "  [24. 19.]]\n",
            "\n",
            " [[45. 45.]\n",
            "  [45. 40.]]]\n",
            "Output shape:(2, 2, 2)\n",
            "Input Shape:(1, 4, 4)\n"
          ],
          "name": "stdout"
        }
      ]
    },
    {
      "cell_type": "markdown",
      "metadata": {
        "id": "TDx5DaJZxZAY"
      },
      "source": [
        "<B>4. Use any one of your built “Conv2” function file to  perform the convolution operation given theinput matrix and ‘N1’ number of filters, followed by the convolution operation with ‘N2’ number offilters, where N2>N1.</B>\n",
        "\n",
        "Let N1=2 filters; N2=3 filters"
      ]
    },
    {
      "cell_type": "code",
      "metadata": {
        "scrolled": true,
        "id": "TZvk2--Mh7Ak",
        "colab": {
          "base_uri": "https://localhost:8080/"
        },
        "outputId": "ad418fae-a80e-4cb0-8b81-aeb2ee004f88"
      },
      "source": [
        "N1=2\n",
        "N2=3\n",
        "np.random.seed(1)\n",
        "print(\"Convolution Layer1 with two filters:\")\n",
        "input=np.random.randint(5, size=(1,7,7))\n",
        "print(\"Input:\"+str(input)+\"\\n\")\n",
        "\n",
        "kernel = np.random.randint(5,size=(N1,3,3))\n",
        "print(\"Kernel:\",kernel)\n",
        "\n",
        "Convolution_Layer1=convolution_2D(input,kernel,0,(1,1),'VALID')\n",
        "\n",
        "print(\"Output Feature Map is:\\n\",str(Convolution_Layer1)+\"\\n\"+\"Output shape:\"+str(Convolution_Layer1.shape))\n",
        "print(\"Input Shape:\"+str(input.shape))\n",
        "print(\"\\nConvolution Layer2 with three filters\\n\")\n",
        "input=Convolution_Layer1\n",
        "\n",
        "print(\"Input:\"+str(input)+\"\\n\")\n",
        "filters = np.random.randint(3,size=(N2,input.shape[0],3,3))\n",
        "print(\"Filters:\",filters)\n",
        "\n",
        "print(kernel.shape)\n",
        "Convolution_Layer2=convolution_2D(input,filters,0,(1,1),'VALID')\n",
        "print(\"Output Feature Map:\\n\"+str(Convolution_Layer2)+\"\\nOutput shape:\"+str(Convolution_Layer2.shape))\n",
        "print(\"Input shape:\",input.shape)"
      ],
      "execution_count": 33,
      "outputs": [
        {
          "output_type": "stream",
          "text": [
            "Convolution Layer1 with two filters:\n",
            "Input:[[[3 4 0 1 3 0 0]\n",
            "  [1 4 4 1 2 4 2]\n",
            "  [4 3 4 2 4 2 4]\n",
            "  [1 1 0 1 1 1 1]\n",
            "  [0 4 1 0 0 3 2]\n",
            "  [1 0 3 1 1 3 4]\n",
            "  [0 1 3 4 2 4 0]]]\n",
            "\n",
            "Kernel: [[[3 1 2]\n",
            "  [0 4 1]\n",
            "  [2 2 1]]\n",
            "\n",
            " [[0 1 3]\n",
            "  [4 3 1]\n",
            "  [3 0 0]]]\n",
            "Filter 1\n",
            "[[3 1 2]\n",
            " [0 4 1]\n",
            " [2 2 1]]\n",
            "Filter 2\n",
            "[[0 1 3]\n",
            " [4 3 1]\n",
            " [3 0 0]]\n",
            "Output Feature Map is:\n",
            " [[[51. 47. 29. 32. 43.]\n",
            "  [35. 39. 32. 36. 31.]\n",
            "  [36. 28. 29. 22. 35.]\n",
            "  [26. 16. 12. 16. 32.]\n",
            "  [14. 38. 24. 29. 35.]]\n",
            "\n",
            " [[36. 41. 43. 23. 34.]\n",
            "  [48. 36. 33. 39. 39.]\n",
            "  [22. 27. 21. 18. 22.]\n",
            "  [17. 22. 17. 10. 18.]\n",
            "  [14. 14. 25. 31. 32.]]]\n",
            "Output shape:(2, 5, 5)\n",
            "Input Shape:(1, 7, 7)\n",
            "\n",
            "Convolution Layer2 with three filters\n",
            "\n",
            "Input:[[[51. 47. 29. 32. 43.]\n",
            "  [35. 39. 32. 36. 31.]\n",
            "  [36. 28. 29. 22. 35.]\n",
            "  [26. 16. 12. 16. 32.]\n",
            "  [14. 38. 24. 29. 35.]]\n",
            "\n",
            " [[36. 41. 43. 23. 34.]\n",
            "  [48. 36. 33. 39. 39.]\n",
            "  [22. 27. 21. 18. 22.]\n",
            "  [17. 22. 17. 10. 18.]\n",
            "  [14. 14. 25. 31. 32.]]]\n",
            "\n",
            "Filters: [[[[2 2 1]\n",
            "   [0 2 2]\n",
            "   [2 0 0]]\n",
            "\n",
            "  [[1 1 1]\n",
            "   [0 0 1]\n",
            "   [1 2 0]]]\n",
            "\n",
            "\n",
            " [[[1 2 2]\n",
            "   [0 1 1]\n",
            "   [0 0 0]]\n",
            "\n",
            "  [[2 0 1]\n",
            "   [0 1 0]\n",
            "   [0 2 0]]]\n",
            "\n",
            "\n",
            " [[[1 2 0]\n",
            "   [1 1 0]\n",
            "   [2 0 0]]\n",
            "\n",
            "  [[0 0 1]\n",
            "   [2 0 1]\n",
            "   [0 2 1]]]]\n",
            "(2, 3, 3)\n",
            "Filter 1\n",
            "Layer1\n",
            "Filter is:[[2 2 1]\n",
            " [0 2 2]\n",
            " [2 0 0]]\n",
            "Layer2\n",
            "Filter is:[[1 1 1]\n",
            " [0 0 1]\n",
            " [1 2 0]]\n",
            "Filter 2\n",
            "Layer1\n",
            "Filter is:[[1 2 2]\n",
            " [0 1 1]\n",
            " [0 0 0]]\n",
            "Layer2\n",
            "Filter is:[[2 0 1]\n",
            " [0 1 0]\n",
            " [0 2 0]]\n",
            "Filter 3\n",
            "Layer1\n",
            "Filter is:[[1 2 0]\n",
            " [1 1 0]\n",
            " [2 0 0]]\n",
            "Layer2\n",
            "Filter is:[[0 0 1]\n",
            " [2 0 1]\n",
            " [0 2 1]]\n",
            "Output Feature Map:\n",
            "[[[1298. 1210. 1125.]\n",
            "  [1069.  962.  950.]\n",
            "  [ 790.  785.  853.]]\n",
            "\n",
            " [[ 978.  878.  857.]\n",
            "  [ 830.  778.  744.]\n",
            "  [ 643.  567.  623.]]\n",
            "\n",
            " [[1000.  902.  836.]\n",
            "  [ 768.  695.  692.]\n",
            "  [ 623.  626.  635.]]]\n",
            "Output shape:(3, 3, 3)\n",
            "Input shape: (2, 5, 5)\n"
          ],
          "name": "stdout"
        }
      ]
    },
    {
      "cell_type": "markdown",
      "metadata": {
        "id": "h9ddSI-yIsx7"
      },
      "source": [
        "<B>5. Compute the number of learnable parameters for Q.No.4.  Validate your  computation with the number of learnable parameters given by Keras-Tensorflow framework. </B>\n",
        "\n",
        "Number of learnable parameters is compted as follows:\n",
        "\n",
        "<B>(shape of width of the filter * shape of height of the filter * number of filters in the previous layer+1)*number of filters</B>\n",
        "\n",
        "Size of kernel/filter: (shape of width of the filter * shape of height of the filter* number of filters in the previous convolution layer/depth of current filter*number of filters in the current convolution layer)+bias/number of filters in the current layer"
      ]
    },
    {
      "cell_type": "code",
      "metadata": {
        "id": "CLSsqt4VTdmT",
        "colab": {
          "base_uri": "https://localhost:8080/"
        },
        "outputId": "0611a0b3-62f6-4df0-d25b-1b866e9777a1"
      },
      "source": [
        "def LearnableParams(kernel,filters):\n",
        "  Convo_layers=2\n",
        "  Total_params=0\n",
        "  if(Convo_layers>1):\n",
        "    Layer1=np.size(kernel)+N1\n",
        "    print(\"Conv2d_4\")\n",
        "    print(\"Number of Learnable Parameters:\",Layer1)\n",
        "    Total_params+=Layer1\n",
        "    Layer2=np.size(filters)+N2\n",
        "    print(\"Conv2d_5\")\n",
        "    print(\"Number of Learnable Parameters:\",Layer2)\n",
        "    Total_params+=Layer2\n",
        "    print(\"Total Number of Params:\",Total_params)\n",
        "LearnableParams(kernel,filters)"
      ],
      "execution_count": 26,
      "outputs": [
        {
          "output_type": "stream",
          "text": [
            "Conv2d_4\n",
            "Number of Learnable Parameters: 20\n",
            "Conv2d_5\n",
            "Number of Learnable Parameters: 57\n",
            "Total Number of Params: 77\n"
          ],
          "name": "stdout"
        }
      ]
    },
    {
      "cell_type": "markdown",
      "metadata": {
        "id": "y9OktGFyPprO"
      },
      "source": [
        "<B> Validate with in-built Convolution 2D function"
      ]
    },
    {
      "cell_type": "code",
      "metadata": {
        "id": "GxL55-JGh7Al",
        "colab": {
          "base_uri": "https://localhost:8080/"
        },
        "outputId": "bf54378f-a325-49c8-fc6e-ff1d85881f37"
      },
      "source": [
        "\n",
        "clf = tf.keras.models.Sequential()\n",
        "clf.add(Conv2D(filters=N1, kernel_size=(3,3), padding='valid',input_shape = (7,7,1)))\n",
        "clf.add(Conv2D(filters=N2, kernel_size=(3,3), padding='valid'))\n",
        "clf.summary()\n"
      ],
      "execution_count": 34,
      "outputs": [
        {
          "output_type": "stream",
          "text": [
            "Model: \"sequential_3\"\n",
            "_________________________________________________________________\n",
            "Layer (type)                 Output Shape              Param #   \n",
            "=================================================================\n",
            "conv2d_6 (Conv2D)            (None, 5, 5, 2)           20        \n",
            "_________________________________________________________________\n",
            "conv2d_7 (Conv2D)            (None, 3, 3, 3)           57        \n",
            "=================================================================\n",
            "Total params: 77\n",
            "Trainable params: 77\n",
            "Non-trainable params: 0\n",
            "_________________________________________________________________\n"
          ],
          "name": "stdout"
        }
      ]
    }
  ]
}